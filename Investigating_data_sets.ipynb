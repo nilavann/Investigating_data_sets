{
 "cells": [
  {
   "cell_type": "markdown",
   "metadata": {},
   "source": [
    "# Machine Learning Foundation Nanodegree Program\n",
    "#Analyzing RMS Titanic ship data from [kaggle.com](https://www.kaggle.com/c/titanic/data)\n",
    "\n",
    "Here in this project we are analyzing RMS Titanic subset of data to determine certain features such as whether someone survived or did not survive \n",
    "\n",
    "Some datail about that ship,In 1912, the ship RMS Titanic struck an iceberg on its maiden voyage and sank, resulting in the deaths of most of its passengers and crew\n",
    "\n",
    "We are using pandas,Numpy,matplotlib,csv,jupyter notebook for this data analyze project"
   ]
  },
  {
   "cell_type": "code",
   "execution_count": 180,
   "metadata": {},
   "outputs": [
    {
     "data": {
      "text/html": [
       "<div>\n",
       "<style>\n",
       "    .dataframe thead tr:only-child th {\n",
       "        text-align: right;\n",
       "    }\n",
       "\n",
       "    .dataframe thead th {\n",
       "        text-align: left;\n",
       "    }\n",
       "\n",
       "    .dataframe tbody tr th {\n",
       "        vertical-align: top;\n",
       "    }\n",
       "</style>\n",
       "<table border=\"1\" class=\"dataframe\">\n",
       "  <thead>\n",
       "    <tr style=\"text-align: right;\">\n",
       "      <th></th>\n",
       "      <th>PassengerId</th>\n",
       "      <th>Survived</th>\n",
       "      <th>Pclass</th>\n",
       "      <th>Name</th>\n",
       "      <th>Sex</th>\n",
       "      <th>Age</th>\n",
       "      <th>SibSp</th>\n",
       "      <th>Parch</th>\n",
       "      <th>Ticket</th>\n",
       "      <th>Fare</th>\n",
       "      <th>Cabin</th>\n",
       "      <th>Embarked</th>\n",
       "    </tr>\n",
       "  </thead>\n",
       "  <tbody>\n",
       "    <tr>\n",
       "      <th>0</th>\n",
       "      <td>1</td>\n",
       "      <td>0</td>\n",
       "      <td>3</td>\n",
       "      <td>Braund, Mr. Owen Harris</td>\n",
       "      <td>male</td>\n",
       "      <td>22.0</td>\n",
       "      <td>1</td>\n",
       "      <td>0</td>\n",
       "      <td>A/5 21171</td>\n",
       "      <td>7.2500</td>\n",
       "      <td>NaN</td>\n",
       "      <td>S</td>\n",
       "    </tr>\n",
       "    <tr>\n",
       "      <th>1</th>\n",
       "      <td>2</td>\n",
       "      <td>1</td>\n",
       "      <td>1</td>\n",
       "      <td>Cumings, Mrs. John Bradley (Florence Briggs Th...</td>\n",
       "      <td>female</td>\n",
       "      <td>38.0</td>\n",
       "      <td>1</td>\n",
       "      <td>0</td>\n",
       "      <td>PC 17599</td>\n",
       "      <td>71.2833</td>\n",
       "      <td>C85</td>\n",
       "      <td>C</td>\n",
       "    </tr>\n",
       "    <tr>\n",
       "      <th>2</th>\n",
       "      <td>3</td>\n",
       "      <td>1</td>\n",
       "      <td>3</td>\n",
       "      <td>Heikkinen, Miss. Laina</td>\n",
       "      <td>female</td>\n",
       "      <td>26.0</td>\n",
       "      <td>0</td>\n",
       "      <td>0</td>\n",
       "      <td>STON/O2. 3101282</td>\n",
       "      <td>7.9250</td>\n",
       "      <td>NaN</td>\n",
       "      <td>S</td>\n",
       "    </tr>\n",
       "    <tr>\n",
       "      <th>3</th>\n",
       "      <td>4</td>\n",
       "      <td>1</td>\n",
       "      <td>1</td>\n",
       "      <td>Futrelle, Mrs. Jacques Heath (Lily May Peel)</td>\n",
       "      <td>female</td>\n",
       "      <td>35.0</td>\n",
       "      <td>1</td>\n",
       "      <td>0</td>\n",
       "      <td>113803</td>\n",
       "      <td>53.1000</td>\n",
       "      <td>C123</td>\n",
       "      <td>S</td>\n",
       "    </tr>\n",
       "    <tr>\n",
       "      <th>4</th>\n",
       "      <td>5</td>\n",
       "      <td>0</td>\n",
       "      <td>3</td>\n",
       "      <td>Allen, Mr. William Henry</td>\n",
       "      <td>male</td>\n",
       "      <td>35.0</td>\n",
       "      <td>0</td>\n",
       "      <td>0</td>\n",
       "      <td>373450</td>\n",
       "      <td>8.0500</td>\n",
       "      <td>NaN</td>\n",
       "      <td>S</td>\n",
       "    </tr>\n",
       "  </tbody>\n",
       "</table>\n",
       "</div>"
      ],
      "text/plain": [
       "   PassengerId  Survived  Pclass  \\\n",
       "0            1         0       3   \n",
       "1            2         1       1   \n",
       "2            3         1       3   \n",
       "3            4         1       1   \n",
       "4            5         0       3   \n",
       "\n",
       "                                                Name     Sex   Age  SibSp  \\\n",
       "0                            Braund, Mr. Owen Harris    male  22.0      1   \n",
       "1  Cumings, Mrs. John Bradley (Florence Briggs Th...  female  38.0      1   \n",
       "2                             Heikkinen, Miss. Laina  female  26.0      0   \n",
       "3       Futrelle, Mrs. Jacques Heath (Lily May Peel)  female  35.0      1   \n",
       "4                           Allen, Mr. William Henry    male  35.0      0   \n",
       "\n",
       "   Parch            Ticket     Fare Cabin Embarked  \n",
       "0      0         A/5 21171   7.2500   NaN        S  \n",
       "1      0          PC 17599  71.2833   C85        C  \n",
       "2      0  STON/O2. 3101282   7.9250   NaN        S  \n",
       "3      0            113803  53.1000  C123        S  \n",
       "4      0            373450   8.0500   NaN        S  "
      ]
     },
     "metadata": {},
     "output_type": "display_data"
    }
   ],
   "source": [
    " # import required pakages for analyzing the dataset\n",
    "import numpy as np \n",
    "import pandas as pd \n",
    "import matplotlib.pyplot as plt\n",
    "import seaborn as sns\n",
    "\n",
    "from IPython.display import display\n",
    "from scipy import stats as st\n",
    "%matplotlib inline\n",
    "# Loading the dataset using pandas\n",
    "\n",
    "file_name = \"titanic.csv\"\n",
    "titanic_data_frame = pd.read_csv(file_name)\n",
    "\n",
    "display(titanic_data_frame.head())"
   ]
  },
  {
   "cell_type": "markdown",
   "metadata": {},
   "source": [
    "# DATA DICTONARY\n",
    "- **Survived**: Outcome of survival (0 = No; 1 = Yes)\n",
    "- **Pclass**: Socio-economic class (1 = Upper class; 2 = Middle class; 3 = Lower class)\n",
    "- **Name**: Name of passenger\n",
    "- **Sex**: Sex of the passenger\n",
    "- **Age**: Age of the passenger (Some entries contain `NaN`)\n",
    "- **SibSp**: Number of siblings and spouses of the passenger aboard\n",
    "- **Parch**: Number of parents and children of the passenger aboard\n",
    "- **Ticket**: Ticket number of the passenger\n",
    "- **Fare**: Fare paid by the passenger\n",
    "- **Cabin** Cabin number of the passenger (Some entries contain `NaN`)\n",
    "- **Embarked**: Port of embarkation of the passenger (C = Cherbourg; Q = Queenstown; S = Southampton)\n"
   ]
  },
  {
   "cell_type": "code",
   "execution_count": 181,
   "metadata": {},
   "outputs": [
    {
     "data": {
      "text/plain": [
       "(891, 12)"
      ]
     },
     "execution_count": 181,
     "metadata": {},
     "output_type": "execute_result"
    }
   ],
   "source": [
    "titanic_data_frame.shape"
   ]
  },
  {
   "cell_type": "markdown",
   "metadata": {},
   "source": [
    "**Predictions**\n",
    "We find that the total number of passengers in titanic is 891.\n",
    "\n",
    "Now we are going to predict the survival factors of titanic passengers by assuming that we don't know weather the passengers are survied or not and then calculate our prediction accuracy with the help of the following function based on our predictions.\n",
    "\n",
    "- First we will predict all passengers are died\n",
    "- Then we will predict one by one all the predictions\n",
    "\n",
    "This function will provide the mean accuracy by comparing the survival status of original data with our predicted data"
   ]
  },
  {
   "cell_type": "code",
   "execution_count": 182,
   "metadata": {},
   "outputs": [
    {
     "name": "stdout",
     "output_type": "stream",
     "text": [
      "prediction_accuracy 50.00%\n"
     ]
    }
   ],
   "source": [
    "# creating a dataframe with only survied \n",
    "survied = titanic_data_frame['Survived']\n",
    "\n",
    "def prediction_rate(survied,prediction):\n",
    "    return \"{:.2f}%\".format((survied == prediction).mean()*100)\n",
    "\n",
    "# calling the prediction rete function with the first ten passengers are survied\n",
    "\n",
    "prediction = []\n",
    "\n",
    "prediction_accuracy = prediction_rate(survied[:10], pd.Series(np.ones(10, dtype = int)))\n",
    "\n",
    "print(\"prediction_accuracy\",prediction_accuracy)\n"
   ]
  },
  {
   "cell_type": "markdown",
   "metadata": {},
   "source": [
    "**Prediction 1**\n",
    "\n",
    "    Assume that all the passengers in titanis are died"
   ]
  },
  {
   "cell_type": "code",
   "execution_count": 183,
   "metadata": {},
   "outputs": [
    {
     "name": "stdout",
     "output_type": "stream",
     "text": [
      "prediction_accuracy 61.62%\n"
     ]
    }
   ],
   "source": [
    "# predicting all are died\n",
    "prediction = pd.Series(np.zeros(len(titanic_data_frame), dtype = int))\n",
    "\n",
    "prediction_accuracy = prediction_rate(survied, prediction)\n",
    "print(\"prediction_accuracy\",prediction_accuracy)\n"
   ]
  },
  {
   "cell_type": "code",
   "execution_count": 184,
   "metadata": {},
   "outputs": [
    {
     "data": {
      "text/html": [
       "<div>\n",
       "<style>\n",
       "    .dataframe thead tr:only-child th {\n",
       "        text-align: right;\n",
       "    }\n",
       "\n",
       "    .dataframe thead th {\n",
       "        text-align: left;\n",
       "    }\n",
       "\n",
       "    .dataframe tbody tr th {\n",
       "        vertical-align: top;\n",
       "    }\n",
       "</style>\n",
       "<table border=\"1\" class=\"dataframe\">\n",
       "  <thead>\n",
       "    <tr style=\"text-align: right;\">\n",
       "      <th></th>\n",
       "      <th>count</th>\n",
       "      <th>unique</th>\n",
       "      <th>top</th>\n",
       "      <th>freq</th>\n",
       "    </tr>\n",
       "    <tr>\n",
       "      <th>Survived</th>\n",
       "      <th></th>\n",
       "      <th></th>\n",
       "      <th></th>\n",
       "      <th></th>\n",
       "    </tr>\n",
       "  </thead>\n",
       "  <tbody>\n",
       "    <tr>\n",
       "      <th>0</th>\n",
       "      <td>2</td>\n",
       "      <td>1</td>\n",
       "      <td>male</td>\n",
       "      <td>2</td>\n",
       "    </tr>\n",
       "    <tr>\n",
       "      <th>1</th>\n",
       "      <td>3</td>\n",
       "      <td>1</td>\n",
       "      <td>female</td>\n",
       "      <td>3</td>\n",
       "    </tr>\n",
       "  </tbody>\n",
       "</table>\n",
       "</div>"
      ],
      "text/plain": [
       "         count unique     top freq\n",
       "Survived                          \n",
       "0            2      1    male    2\n",
       "1            3      1  female    3"
      ]
     },
     "execution_count": 184,
     "metadata": {},
     "output_type": "execute_result"
    }
   ],
   "source": [
    "# take first first details and group by survived based on sex\n",
    "\n",
    "titanic_data_frame.head().groupby(\"Survived\")[\"Sex\"].describe()"
   ]
  },
  {
   "cell_type": "markdown",
   "metadata": {},
   "source": [
    "Now from result we say that the survived states based on **sex**\n",
    "- **Males** (0/2)\n",
    "- **Female** (3/3)\n",
    "-We also visuvalize the data using Matplotlib based on gender"
   ]
  },
  {
   "cell_type": "code",
   "execution_count": 185,
   "metadata": {},
   "outputs": [
    {
     "data": {
      "image/png": "[encoded data removed]",
      "text/plain": [
       "<matplotlib.figure.Figure at 0x7fda84122a90>"
      ]
     },
     "metadata": {},
     "output_type": "display_data"
    }
   ],
   "source": [
    "# bargraph ploting\n",
    "def bar_graph(x_data, y_data, x_label, y_label, data, title):\n",
    "    sns.barplot(x = x_data, y = y_data, data = data)\n",
    "    plt.title(title)\n",
    "    plt.xlabel(x_label)\n",
    "    plt.ylabel(y_label)\n",
    "    plt.show()\n",
    "\n",
    "bar_graph('Sex', 'Survived', 'Sex', 'Survival Rate', titanic_data_frame, 'Passengers Survived data based on Gender')"
   ]
  },
  {
   "cell_type": "markdown",
   "metadata": {},
   "source": [
    "**Prediction 2**\n",
    "\n",
    "All the women passengers in the ship are survied "
   ]
  },
  {
   "cell_type": "code",
   "execution_count": null,
   "metadata": {},
   "outputs": [
    {
     "name": "stdout",
     "output_type": "stream",
     "text": [
      "prediction_accuracy 78.68%\n"
     ]
    }
   ],
   "source": [
    "# predicting that all women passengers are survived\n",
    "prediction = []\n",
    "for _, row in titanic_data_frame.iterrows():\n",
    "        prediction.append(1 if row['Sex'] == \"female\" else 0)\n",
    "prediction = pd.Series(prediction)\n",
    "\n",
    "# Calculating our prediction accuracy\n",
    "prediction_accuracy = prediction_rate(survied, prediction)\n",
    "print(\"prediction_accuracy\",prediction_accuracy)\n",
    "\n",
    "  "
   ]
  },
  {
   "cell_type": "markdown",
   "metadata": {},
   "source": [
    "Thus our prediction score becomes 78.68% from 50.00% by just considering the sex column in the data frame this indicates that we are predicting the survival fatures correctly \n",
    "\n",
    "**prediction 3**\n",
    "\n",
    "Now we consider that all the womens and all passengers in Pclass one are survived\n",
    "\n"
   ]
  },
  {
   "cell_type": "code",
   "execution_count": null,
   "metadata": {},
   "outputs": [],
   "source": [
    "# drawing bar graph for prediction 3 \n",
    "bar_graph('Pclass', 'Survived', 'Pclass', 'Survival Rate', titanic_data_frame, 'Passengers Survived data based on Pclass')"
   ]
  },
  {
   "cell_type": "code",
   "execution_count": null,
   "metadata": {
    "scrolled": true
   },
   "outputs": [],
   "source": [
    "# predicting that all women passengers and Pclass = 1 are survived\n",
    "prediction = []\n",
    "for _, row in titanic_data_frame.iterrows():\n",
    "        prediction.append(1 if row['Sex'] == \"female\" or row['Pclass'] == 1 else 0)\n",
    "prediction = pd.Series(prediction)\n",
    "\n",
    "# Calculating our prediction accuracy\n",
    "prediction_accuracy = prediction_rate(survied, prediction)\n",
    "print(\"prediction_accuracy\",prediction_accuracy)\n"
   ]
  },
  {
   "cell_type": "markdown",
   "metadata": {},
   "source": [
    "**Wrong prediction**\n",
    "\n",
    "Here the prediction accuracy is reduced to 75.08%.This clearly shows that our predictions has some error.\n",
    "\n",
    "We will investicate the Pclass == 1/first class passengers data so we can able to understand why our prediction goes wrong"
   ]
  },
  {
   "cell_type": "code",
   "execution_count": null,
   "metadata": {},
   "outputs": [],
   "source": [
    "pclass_1 = titanic_data_frame[titanic_data_frame[\"Pclass\"] == 1]\n",
    "\n",
    "pclass_1.groupby(\"Sex\")[\"Survived\"].describe()"
   ]
  },
  {
   "cell_type": "markdown",
   "metadata": {},
   "source": [
    "Thus from the above data we can see that the survival mean of mens is 0.36 that means most of the male passengers in first class are did not survived.This is why our predictions goes wrong \n",
    "\n",
    "Then we can predict that the men in the **Pclass \"1\" is not survived**\n",
    "\n",
    "**Mens survivel based on age**\n",
    "\n",
    "   Since most of the mans are Deceased so we will investige the mens \n",
    "survival based on their ages.we will plot histogram for mens dased on their ages "
   ]
  },
  {
   "cell_type": "code",
   "execution_count": null,
   "metadata": {},
   "outputs": [],
   "source": [
    "max_age_of_men = int(titanic_data_frame[\"Age\"].max())\n",
    "\n",
    "# bin values\n",
    "bins = [i for i in range(0,max_age_of_men+1,10)]\n",
    "\n",
    "# survived details and deceased details\n",
    "survived_mens_ages = titanic_data_frame[titanic_data_frame[\"Survived\"] == 1]\n",
    "deceased_mens_ages = titanic_data_frame[titanic_data_frame[\"Survived\"] == 0]\n",
    "\n",
    "# since the age is not specified in certain rows they are removed\n",
    "deceased_mens_ages = deceased_mens_ages[\"Age\"].dropna()\n",
    "survived_mens_ages = survived_mens_ages[\"Age\"].dropna()\n",
    "\n",
    "# histograms ploting method\n",
    "def plot_hist(data,bin_value,color,label):\n",
    "    plt.hist(data,bin_value,histtype = 'bar',color =color,label = label,rwidth=0.98)\n",
    "    plt.xlabel(\"Mens age\")\n",
    "    plt.ylabel(\"Survivel rate\")\n",
    "    plt.title(\"Mens survival and deceased rate baed on age\")\n",
    "    plt.legend()\n",
    "\n",
    "\n",
    "plot_hist(deceased_mens_ages,bins,\"m\",\"Deceased\")\n",
    "plot_hist(survived_mens_ages,bins,\"b\",\"Survived\")\n",
    "\n",
    "\n"
   ]
  },
  {
   "cell_type": "markdown",
   "metadata": {},
   "source": [
    "With this visuvalisation the mens younger then the age \"10\" are survived then others.so we can predict that the men who's age is less 15 are survived\n",
    "\n",
    "**prediction 4**\n",
    "\n",
    "Assume that all the womens and mens who's age < 10 are survived and all the other passengers are died"
   ]
  },
  {
   "cell_type": "code",
   "execution_count": null,
   "metadata": {},
   "outputs": [],
   "source": [
    "# prediction 4\n",
    "\n",
    "prediction = []\n",
    "for _, row in titanic_data_frame.iterrows():\n",
    "        prediction.append(1 if row['Sex'] == \"female\" or (row['Sex'] == \"male\" and row[\"Age\"] < 10) else 0)\n",
    "prediction = pd.Series(prediction)\n",
    "\n",
    "# Calculating our prediction accuracy\n",
    "prediction_accuracy = prediction_rate(survied, prediction)\n",
    "print(\"prediction_accuracy\",prediction_accuracy)"
   ]
  },
  {
   "cell_type": "markdown",
   "metadata": {},
   "source": [
    "Thus after these prediction based on the **Sex** and **Age < 10**\n",
    "and the prediction score becomes approximately 80% if we continue to do our prediction process we will definitely find all the Factor/reason for the survival of the passengers in titanic\n"
   ]
  },
  {
   "cell_type": "code",
   "execution_count": null,
   "metadata": {},
   "outputs": [],
   "source": [
    "#predict all the one in the pclass 3 afe died\n",
    "pclass_3 = titanic_data_frame[titanic_data_frame[\"Pclass\"] == 3]\n",
    "\n",
    "pclass_3.groupby(\"Sex\")[\"Survived\"].describe()"
   ]
  },
  {
   "cell_type": "markdown",
   "metadata": {},
   "source": [
    "Adding the addition prediction that all the passengers in Pclass 3 are died the prediction rate increased a little "
   ]
  },
  {
   "cell_type": "code",
   "execution_count": null,
   "metadata": {},
   "outputs": [],
   "source": [
    "# further predictions\n",
    "prediction = []\n",
    "final_dataset = []\n",
    "for _, row in titanic_data_frame.iterrows():\n",
    "    if ((row['Sex'] == \"female\" and row[\"Pclass\"] != 3) or (row['Sex'] == \"male\" and row[\"Age\"] < 15 and (row[\"Pclass\"] != 3))):\n",
    "        prediction.append(1)\n",
    "        final_dataset.append(row)\n",
    "    else:\n",
    "        prediction.append(0)\n",
    "        \n",
    "prediction = pd.Series(prediction)\n",
    "\n",
    "# Calculating our prediction accuracy\n",
    "prediction_accuracy = prediction_rate(survied, prediction)\n",
    "print(\"prediction_accuracy\",prediction_accuracy)"
   ]
  },
  {
   "cell_type": "code",
   "execution_count": null,
   "metadata": {},
   "outputs": [],
   "source": [
    "final_dataset = pd.Series(final_dataset)\n",
    "print(final_dataset.describe())\n",
    "print(st.ttest_ind(prediction,survied))"
   ]
  },
  {
   "cell_type": "markdown",
   "metadata": {},
   "source": [
    "**Columns used to analysis the dataset**: sex,age,Pclass\n",
    "\n",
    "If we also take the remaninig columns and analysis the dataset with them prediction score will get higher\n",
    "\n",
    "**Conclusion**\n",
    "\n",
    "- From the above analysis we can able to say that most of the female passengers are survied\n",
    "- Male passengers in which ho are not in pclass(3) and also age is less then 15 are survived\n",
    "- We can make futher predictions on this dataset for analysing feacuter that make passengers more likely to survive"
   ]
  }
 ],
 "metadata": {
  "kernelspec": {
   "display_name": "Python 3",
   "language": "python",
   "name": "python3"
  },
  "language_info": {
   "codemirror_mode": {
    "name": "ipython",
    "version": 3
   },
   "file_extension": ".py",
   "mimetype": "text/x-python",
   "name": "python",
   "nbconvert_exporter": "python",
   "pygments_lexer": "ipython3",
   "version": "3.6.2"
  }
 },
 "nbformat": 4,
 "nbformat_minor": 2
}
